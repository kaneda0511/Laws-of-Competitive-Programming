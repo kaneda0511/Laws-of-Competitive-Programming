{
 "cells": [
  {
   "cell_type": "code",
   "execution_count": 15,
   "metadata": {},
   "outputs": [
    {
     "name": "stdout",
     "output_type": "stream",
     "text": [
      "0\n",
      "2\n",
      "3\n",
      "4\n",
      "1\n",
      "0\n",
      "3\n",
      "0\n",
      "0\n",
      "0\n"
     ]
    }
   ],
   "source": [
    "T = int(input())\n",
    "N = int(input())\n",
    "G = [0]*(T+2)\n",
    "for i in range(N):\n",
    "    L,R = map(int,input().split())\n",
    "    G[L]+=1\n",
    "    G[R]-=1\n",
    "\n",
    "ans=[0]*(T+2)\n",
    "for i in range(T):\n",
    "    if i==0:\n",
    "        ans[i] += G[i]\n",
    "    else:\n",
    "        ans[i] += G[i]+ans[i-1]\n",
    "    \n",
    "for i in range(T):\n",
    "    print(ans[i])"
   ]
  },
  {
   "cell_type": "code",
   "execution_count": 14,
   "metadata": {},
   "outputs": [
    {
     "data": {
      "text/plain": [
       "[2, 1, 1, 0, -3, 2, 0, -3, 0, 0, 0, 0]"
      ]
     },
     "execution_count": 14,
     "metadata": {},
     "output_type": "execute_result"
    }
   ],
   "source": [
    "G"
   ]
  },
  {
   "cell_type": "code",
   "execution_count": 17,
   "metadata": {},
   "outputs": [
    {
     "name": "stdout",
     "output_type": "stream",
     "text": [
      "2\n",
      "3\n",
      "4\n",
      "1\n",
      "0\n",
      "3\n",
      "0\n",
      "0\n",
      "0\n",
      "0\n"
     ]
    }
   ],
   "source": [
    "ans=[0]*(T+2)\n",
    "for i in range(T):\n",
    "    if i==0:\n",
    "        ans[i] += G[i]\n",
    "    else:\n",
    "        ans[i] += G[i]+ans[i-1]\n",
    "    \n",
    "for i in range(T):\n",
    "    print(ans[i])\n"
   ]
  },
  {
   "cell_type": "code",
   "execution_count": null,
   "metadata": {},
   "outputs": [],
   "source": []
  }
 ],
 "metadata": {
  "interpreter": {
   "hash": "b0fa6594d8f4cbf19f97940f81e996739fb7646882a419484c72d19e05852a7e"
  },
  "kernelspec": {
   "display_name": "Python 3.9.9 64-bit",
   "name": "python3"
  },
  "language_info": {
   "codemirror_mode": {
    "name": "ipython",
    "version": 3
   },
   "file_extension": ".py",
   "mimetype": "text/x-python",
   "name": "python",
   "nbconvert_exporter": "python",
   "pygments_lexer": "ipython3",
   "version": "3.9.9"
  },
  "orig_nbformat": 4
 },
 "nbformat": 4,
 "nbformat_minor": 2
}
