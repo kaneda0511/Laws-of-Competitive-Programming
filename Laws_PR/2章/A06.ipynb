{
 "cells": [
  {
   "cell_type": "markdown",
   "metadata": {},
   "source": [
    "# 2.0 一次元の累積和(1)"
   ]
  },
  {
   "cell_type": "markdown",
   "metadata": {},
   "source": [
    "これだとTLE"
   ]
  },
  {
   "cell_type": "code",
   "execution_count": 2,
   "metadata": {},
   "outputs": [
    {
     "name": "stdout",
     "output_type": "stream",
     "text": [
      "15\n",
      "24\n",
      "1123\n",
      "111\n",
      "11137\n"
     ]
    }
   ],
   "source": [
    "N,Q = map(int,input().split())\n",
    "A = list(map(int,input().split()))\n",
    "for i in range(Q):\n",
    "    L,R = map(int,input().split())\n",
    "    print(sum(A[L-1:R]))\n"
   ]
  },
  {
   "cell_type": "markdown",
   "metadata": {},
   "source": [
    "教材にもあった通り、累積和を事前に求めておくことで計算時間を減らすことができる"
   ]
  },
  {
   "cell_type": "code",
   "execution_count": 31,
   "metadata": {},
   "outputs": [
    {
     "name": "stdout",
     "output_type": "stream",
     "text": [
      "15\n",
      "24\n",
      "1123\n",
      "111\n",
      "11137\n"
     ]
    }
   ],
   "source": [
    "N,Q = map(int,input().split())\n",
    "A = list(map(int,input().split()))\n",
    "S=[0]*(N+1)\n",
    "for i in range(N):\n",
    "    S[i+1]=S[i]+A[i]\n",
    "for i in range(Q):\n",
    "    L,R = map(int,input().split())\n",
    "    print(S[R]-S[L-1])"
   ]
  }
 ],
 "metadata": {
  "interpreter": {
   "hash": "b0fa6594d8f4cbf19f97940f81e996739fb7646882a419484c72d19e05852a7e"
  },
  "kernelspec": {
   "display_name": "Python 3.9.9 64-bit",
   "name": "python3"
  },
  "language_info": {
   "codemirror_mode": {
    "name": "ipython",
    "version": 3
   },
   "file_extension": ".py",
   "mimetype": "text/x-python",
   "name": "python",
   "nbconvert_exporter": "python",
   "pygments_lexer": "ipython3",
   "version": "3.9.9"
  },
  "orig_nbformat": 4
 },
 "nbformat": 4,
 "nbformat_minor": 2
}
