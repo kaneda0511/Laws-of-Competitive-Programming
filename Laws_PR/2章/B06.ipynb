{
 "cells": [
  {
   "cell_type": "code",
   "execution_count": 5,
   "metadata": {},
   "outputs": [],
   "source": [
    "N = int(input())\n",
    "A = list(map(int,input().split()))\n",
    "\n",
    "T_0 = [0]*(N+1)\n",
    "T_1 = [0]*(N+1)\n",
    "cnt_0=0\n",
    "cnt_1=0\n",
    "for i in range(N):\n",
    "    if A[i]==0:\n",
    "        cnt_0+=1\n",
    "        T_0[i+1]=cnt_0\n",
    "        T_1[i+1]=cnt_1\n",
    "    else:\n",
    "        cnt_1+=1\n",
    "        T_0[i+1]=cnt_0\n",
    "        T_1[i+1]=cnt_1\n",
    "        \n",
    "Q = int(input())\n",
    "for i in range(Q):\n",
    "    L,R = map(int,input().split())\n",
    "    if (T_0[R]-T_0[L-1])<(T_1[R]-T_1[L-1]):\n",
    "        print(\"win\")\n",
    "    elif (T_0[R]-T_0[L-1])==(T_1[R]-T_1[L-1]):\n",
    "        print(\"draw\")\n",
    "    else:\n",
    "        print(\"lose\")\n"
   ]
  }
 ],
 "metadata": {
  "interpreter": {
   "hash": "b0fa6594d8f4cbf19f97940f81e996739fb7646882a419484c72d19e05852a7e"
  },
  "kernelspec": {
   "display_name": "Python 3.9.9 64-bit",
   "name": "python3"
  },
  "language_info": {
   "codemirror_mode": {
    "name": "ipython",
    "version": 3
   },
   "file_extension": ".py",
   "mimetype": "text/x-python",
   "name": "python",
   "nbconvert_exporter": "python",
   "pygments_lexer": "ipython3",
   "version": "3.9.9"
  },
  "orig_nbformat": 4
 },
 "nbformat": 4,
 "nbformat_minor": 2
}
