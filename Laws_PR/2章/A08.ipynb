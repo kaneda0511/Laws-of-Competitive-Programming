{
 "cells": [
  {
   "cell_type": "markdown",
   "metadata": {},
   "source": [
    "# 2.3 二次元の累積和(1)"
   ]
  },
  {
   "cell_type": "code",
   "execution_count": 32,
   "metadata": {},
   "outputs": [
    {
     "name": "stdout",
     "output_type": "stream",
     "text": [
      "2\n",
      "5\n"
     ]
    }
   ],
   "source": [
    "H,W = map(int,input().split())\n",
    "\n",
    "X = [None]*H\n",
    "for i in range(H):\n",
    "\tX[i] = list(map(int, input().split()))\n",
    "\n",
    "Q = int(input())\n",
    "A = [ None ] * Q\n",
    "B = [ None ] * Q\n",
    "C = [ None ] * Q\n",
    "D = [ None ] * Q\n",
    "for i in range(Q):\n",
    "\tA[i], B[i], C[i], D[i] = map(int, input().split())\n",
    "\n",
    "Z = [[0]*(W+1) for i in range(H+1)]\n",
    "\n",
    "# 横方向に累積\n",
    "for i in range(1,H+1):\n",
    "    for j in range(1,W+1):\n",
    "        Z[i][j] = Z[i][j-1] + X[i-1][j-1]\n",
    "\n",
    "# 縦方向に累積\n",
    "for j in range(1,W+1):\n",
    "    for i in range(1,H+1):\n",
    "        Z[i][j] = Z[i-1][j] + Z[i][j]\n",
    "\n",
    "\n",
    "for i in range(Q):\n",
    "    print(Z[C[i]][D[i]] + Z[A[i]-1][B[i]-1] - Z[A[i]-1][D[i]] - Z[C[i]][B[i]-1])\n"
   ]
  },
  {
   "cell_type": "markdown",
   "metadata": {},
   "source": [
    "二次元の累積を横方向と縦方向へ足していうプロセスが分かりにくかったら、ひとつ前の一次元での累積について考えてみるといいかもしれない"
   ]
  },
  {
   "cell_type": "markdown",
   "metadata": {},
   "source": [
    "二次元での扱い方は一次元を拡張したに過ぎないので、一次元での累積和をきちんと理解しておくことが二次元の累積和を理解する上で重要"
   ]
  }
 ],
 "metadata": {
  "interpreter": {
   "hash": "b0fa6594d8f4cbf19f97940f81e996739fb7646882a419484c72d19e05852a7e"
  },
  "kernelspec": {
   "display_name": "Python 3.9.9 64-bit",
   "name": "python3"
  },
  "language_info": {
   "codemirror_mode": {
    "name": "ipython",
    "version": 3
   },
   "file_extension": ".py",
   "mimetype": "text/x-python",
   "name": "python",
   "nbconvert_exporter": "python",
   "pygments_lexer": "ipython3",
   "version": "3.9.9"
  },
  "orig_nbformat": 4
 },
 "nbformat": 4,
 "nbformat_minor": 2
}
