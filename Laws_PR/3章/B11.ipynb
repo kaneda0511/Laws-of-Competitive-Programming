{
 "cells": [
  {
   "cell_type": "code",
   "execution_count": 6,
   "metadata": {},
   "outputs": [
    {
     "name": "stdout",
     "output_type": "stream",
     "text": [
      "7\n",
      "7\n",
      "7\n",
      "11\n",
      "11\n"
     ]
    }
   ],
   "source": [
    "N = int(input())\n",
    "A = list(map(int,input().split()))\n",
    "A.sort()\n",
    "Q = int(input())\n",
    "X=[None]*Q\n",
    "for i in range(Q):\n",
    "    X[i] = int(input())\n",
    "\n",
    "\n",
    "import bisect\n",
    "for i in range(Q):\n",
    "    print(bisect.bisect_left(A, X[i]))"
   ]
  },
  {
   "cell_type": "markdown",
   "metadata": {},
   "source": [
    "## bisectでリストを二分探索する"
   ]
  },
  {
   "cell_type": "markdown",
   "metadata": {},
   "source": [
    "https://amateur-engineer-blog.com/python-bisect/"
   ]
  },
  {
   "cell_type": "markdown",
   "metadata": {},
   "source": [
    "### bisect_left"
   ]
  },
  {
   "cell_type": "markdown",
   "metadata": {},
   "source": [
    "```\n",
    "bisect.bisect_left(リスト,数値)\n",
    "```"
   ]
  },
  {
   "cell_type": "markdown",
   "metadata": {},
   "source": [
    "によって挿入可能なインデックスを返す。\n",
    "\n",
    "つまり、\n",
    "\n",
    "```\n",
    "list=[2,5,8,13,18,25,30]\n",
    "bisect.bisect_left(list,10)\n",
    "```\n",
    "とすると、listにおいて10が入るのは8と13の間となり、個々のインデックス番号を返してくれる。同じ値がある場合は、その値の最も**左側**のインデックスを返す。\n",
    "\n",
    "この例の場合だと、３を返してくれる。\n",
    "\n",
    "試しに下記に同様のコードを記載する。"
   ]
  },
  {
   "cell_type": "code",
   "execution_count": 23,
   "metadata": {},
   "outputs": [
    {
     "data": {
      "text/plain": [
       "3"
      ]
     },
     "execution_count": 23,
     "metadata": {},
     "output_type": "execute_result"
    }
   ],
   "source": [
    "list_ex=[2,5,8,13,18,25,30]\n",
    "bisect.bisect_left(list_ex,10)"
   ]
  },
  {
   "cell_type": "markdown",
   "metadata": {},
   "source": [
    "これを応用したのが今回の例題"
   ]
  },
  {
   "cell_type": "markdown",
   "metadata": {},
   "source": [
    "### bisect_right"
   ]
  },
  {
   "cell_type": "markdown",
   "metadata": {},
   "source": [
    "bisect_leftとの違いは同じ値がある場合は、その値の最も**右側**のインデックスを返す"
   ]
  }
 ],
 "metadata": {
  "interpreter": {
   "hash": "b0fa6594d8f4cbf19f97940f81e996739fb7646882a419484c72d19e05852a7e"
  },
  "kernelspec": {
   "display_name": "Python 3.9.9 64-bit",
   "name": "python3"
  },
  "language_info": {
   "codemirror_mode": {
    "name": "ipython",
    "version": 3
   },
   "file_extension": ".py",
   "mimetype": "text/x-python",
   "name": "python",
   "nbconvert_exporter": "python",
   "pygments_lexer": "ipython3",
   "version": "3.9.9"
  },
  "orig_nbformat": 4
 },
 "nbformat": 4,
 "nbformat_minor": 2
}
