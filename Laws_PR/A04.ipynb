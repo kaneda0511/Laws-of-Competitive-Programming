{
 "cells": [
  {
   "cell_type": "markdown",
   "metadata": {},
   "source": [
    "# 1.4 2進数"
   ]
  },
  {
   "cell_type": "code",
   "execution_count": 70,
   "metadata": {},
   "outputs": [
    {
     "name": "stdout",
     "output_type": "stream",
     "text": [
      "0001011010\n"
     ]
    }
   ],
   "source": [
    "N = int(input())\n",
    "L=[]\n",
    "for i in range(1000):\n",
    "    \n",
    "    a = N//(2**i)\n",
    "    m = a%2\n",
    "    L.append(str(m))\n",
    "    if a == 0 or a == 1:\n",
    "        break\n",
    "\n",
    "n=10-len(L)\n",
    "if 0<n:\n",
    "    for i in range(n):\n",
    "        L.append(str(0))\n",
    "\n",
    "ans = L[::-1]\n",
    "print(\"\".join(ans))\n",
    "\n",
    "\n"
   ]
  },
  {
   "cell_type": "code",
   "execution_count": null,
   "metadata": {},
   "outputs": [],
   "source": []
  }
 ],
 "metadata": {
  "interpreter": {
   "hash": "b0fa6594d8f4cbf19f97940f81e996739fb7646882a419484c72d19e05852a7e"
  },
  "kernelspec": {
   "display_name": "Python 3.9.9 64-bit",
   "name": "python3"
  },
  "language_info": {
   "codemirror_mode": {
    "name": "ipython",
    "version": 3
   },
   "file_extension": ".py",
   "mimetype": "text/x-python",
   "name": "python",
   "nbconvert_exporter": "python",
   "pygments_lexer": "ipython3",
   "version": "3.9.9"
  },
  "orig_nbformat": 4
 },
 "nbformat": 4,
 "nbformat_minor": 2
}
