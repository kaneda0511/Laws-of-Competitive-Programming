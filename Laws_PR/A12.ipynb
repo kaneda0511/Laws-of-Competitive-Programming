{
 "cells": [
  {
   "cell_type": "markdown",
   "metadata": {},
   "source": [
    "# 3.2 答えで二分探索 "
   ]
  },
  {
   "cell_type": "code",
   "execution_count": 10,
   "metadata": {},
   "outputs": [],
   "source": [
    "N,K = map(int,input().split())\n",
    "A = list(map(int,input().split()))\n",
    "Left = 0\n",
    "Right = 10**9\n",
    "\n",
    "def check(x, N, K, A):\n",
    "\tS = 0\n",
    "    # xは中間となるMidとなる\n",
    "\tfor i in range(N):\n",
    "        # リストAの中間//リストA[i]とすることで個々の床関数を求めている\n",
    "\t\tS += x // A[i] \n",
    "    # 求めた床関数の総和がK以上ならばTrue → 後にRightをMidに更新\n",
    "\tif  K <= S:\n",
    "\t\treturn True\n",
    "    # そうでない場合はFalse → 後にLeftをMid+1へ\n",
    "\treturn False\n",
    "\n",
    "\n",
    "while(Left<Right):\n",
    "    Mid = (Left+Right)//2\n",
    "    ans = check(Mid,N,K,A)\n",
    "    if (ans==True):\n",
    "        Right=Mid\n",
    "    if (ans==False):\n",
    "        Left=Mid+1\n",
    "\n",
    "print(Left)\n"
   ]
  }
 ],
 "metadata": {
  "interpreter": {
   "hash": "b0fa6594d8f4cbf19f97940f81e996739fb7646882a419484c72d19e05852a7e"
  },
  "kernelspec": {
   "display_name": "Python 3.9.9 64-bit",
   "name": "python3"
  },
  "language_info": {
   "codemirror_mode": {
    "name": "ipython",
    "version": 3
   },
   "file_extension": ".py",
   "mimetype": "text/x-python",
   "name": "python",
   "nbconvert_exporter": "python",
   "pygments_lexer": "ipython3",
   "version": "3.9.9"
  },
  "orig_nbformat": 4
 },
 "nbformat": 4,
 "nbformat_minor": 2
}
