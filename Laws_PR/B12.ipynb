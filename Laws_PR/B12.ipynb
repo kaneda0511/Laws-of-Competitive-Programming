{
 "cells": [
  {
   "cell_type": "code",
   "execution_count": 44,
   "metadata": {},
   "outputs": [
    {
     "name": "stdout",
     "output_type": "stream",
     "text": [
      "0.9999999999999999\n"
     ]
    }
   ],
   "source": [
    "def f(x):\n",
    "    return x**3+x\n",
    "\n",
    "N = int(input())\n",
    "left=0\n",
    "right=100\n",
    "for i in range(10000):\n",
    "    mid = (left+right)/2\n",
    "    if N<f(mid):\n",
    "        right=mid\n",
    "    if f(mid)<N:\n",
    "        left=mid\n",
    "\n",
    "print(left)"
   ]
  }
 ],
 "metadata": {
  "interpreter": {
   "hash": "b0fa6594d8f4cbf19f97940f81e996739fb7646882a419484c72d19e05852a7e"
  },
  "kernelspec": {
   "display_name": "Python 3.9.9 64-bit",
   "name": "python3"
  },
  "language_info": {
   "codemirror_mode": {
    "name": "ipython",
    "version": 3
   },
   "file_extension": ".py",
   "mimetype": "text/x-python",
   "name": "python",
   "nbconvert_exporter": "python",
   "pygments_lexer": "ipython3",
   "version": "3.9.9"
  },
  "orig_nbformat": 4
 },
 "nbformat": 4,
 "nbformat_minor": 2
}
