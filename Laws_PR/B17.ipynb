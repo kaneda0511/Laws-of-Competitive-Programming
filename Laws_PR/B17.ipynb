{
 "cells": [
  {
   "cell_type": "code",
   "execution_count": 16,
   "metadata": {},
   "outputs": [
    {
     "name": "stdout",
     "output_type": "stream",
     "text": [
      "4\n",
      "1 3 5 6\n"
     ]
    }
   ],
   "source": [
    "# 入力\n",
    "N = int(input())\n",
    "h = list(map(int,input().split()))\n",
    "\n",
    "# 動的計画法\n",
    "dp = [None]*(N)\n",
    "dp[0] = 0\n",
    "dp[1] = abs(h[1]-h[0])\n",
    "for i in range(2,N):\n",
    "    dp[i] = min(dp[i-1]+abs(h[i-1]-h[i]),dp[i-2]+abs(h[i-2]-h[i]))\n",
    "\n",
    "# 動的計画法の復元\n",
    "ans1 = []\n",
    "pos = N\n",
    "while(True):\n",
    "    ans1.append(pos)\n",
    "    if pos == 1:\n",
    "        break\n",
    "\n",
    "    if dp[pos-2]+abs(h[pos-2]-h[pos-1]) == dp[pos-1]:\n",
    "        pos -= 1\n",
    "    else:\n",
    "        pos -=2\n",
    "\n",
    "ans1.reverse()\n",
    "ans2 = [str(i) for i in ans1]\n",
    "print(len(ans1))\n",
    "print(*ans2)"
   ]
  }
 ],
 "metadata": {
  "interpreter": {
   "hash": "b0fa6594d8f4cbf19f97940f81e996739fb7646882a419484c72d19e05852a7e"
  },
  "kernelspec": {
   "display_name": "Python 3.9.9 64-bit",
   "name": "python3"
  },
  "language_info": {
   "codemirror_mode": {
    "name": "ipython",
    "version": 3
   },
   "file_extension": ".py",
   "mimetype": "text/x-python",
   "name": "python",
   "nbconvert_exporter": "python",
   "pygments_lexer": "ipython3",
   "version": "3.9.9"
  },
  "orig_nbformat": 4
 },
 "nbformat": 4,
 "nbformat_minor": 2
}
