{
 "cells": [
  {
   "cell_type": "markdown",
   "metadata": {},
   "source": [
    "# 4.2 動的計画法の復元"
   ]
  },
  {
   "cell_type": "code",
   "execution_count": 11,
   "metadata": {},
   "outputs": [
    {
     "name": "stdout",
     "output_type": "stream",
     "text": [
      "4\n",
      "1245\n"
     ]
    }
   ],
   "source": [
    "N = int(input())\n",
    "A = list(map(int, input().split()))\n",
    "B = list(map(int, input().split()))\n",
    "\n",
    "dp=[None]*(N+1)\n",
    "dp[1] = 0\n",
    "dp[2] = A[0]\n",
    "for i in range(3,N+1):\n",
    "  dp[i] = min(dp[i-1]+A[i-2],dp[i-2]+B[i-3])\n",
    "  \n",
    "ans1=[]\n",
    "pos=N\n",
    "while(True):\n",
    "  ans1.append(pos)\n",
    "  if pos == 1:\n",
    "    break\n",
    "    \n",
    "  if dp[pos-1] + A[pos-2] == dp[pos]:\n",
    "    pos -= 1\n",
    "  else:\n",
    "    pos -= 2\n",
    "    \n",
    "ans1.reverse()\n",
    "print(len(ans1))\n",
    "ans2 = [str(i) for i in ans1]\n",
    "print(*ans2)"
   ]
  }
 ],
 "metadata": {
  "interpreter": {
   "hash": "b0fa6594d8f4cbf19f97940f81e996739fb7646882a419484c72d19e05852a7e"
  },
  "kernelspec": {
   "display_name": "Python 3.9.9 64-bit",
   "name": "python3"
  },
  "language_info": {
   "codemirror_mode": {
    "name": "ipython",
    "version": 3
   },
   "file_extension": ".py",
   "mimetype": "text/x-python",
   "name": "python",
   "nbconvert_exporter": "python",
   "pygments_lexer": "ipython3",
   "version": "3.9.9"
  },
  "orig_nbformat": 4
 },
 "nbformat": 4,
 "nbformat_minor": 2
}
